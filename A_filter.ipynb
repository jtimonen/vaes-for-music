{
 "cells": [
  {
   "cell_type": "markdown",
   "metadata": {},
   "source": [
    "# Filtering the clean_midi data set\n",
    "In this notebook we filter out some files from the `clean_midi` data set. Our criteria are\n",
    "* Max one tempo change event (setting initial tempo)\n",
    "* Max one time signature change event (setting initial time signature)\n",
    "* The time signature must be 4/4\n",
    "* Loading the midi file using `pretty_midi` must succeed without warnings\n"
   ]
  },
  {
   "cell_type": "code",
   "execution_count": 9,
   "metadata": {},
   "outputs": [],
   "source": [
    "import pretty_midi\n",
    "import numpy as np\n",
    "import collections\n",
    "import os\n",
    "import warnings \n",
    "warnings.filterwarnings('error')"
   ]
  },
  {
   "cell_type": "code",
   "execution_count": 10,
   "metadata": {},
   "outputs": [
    {
     "name": "stdout",
     "output_type": "stream",
     "text": [
      "Number of files found:  5051\n"
     ]
    }
   ],
   "source": [
    "# Get all files\n",
    "listOfFiles = list()\n",
    "dirName = os.path.join(\"..\", \"data_raw\", \"clean_midi\") # path to raw data\n",
    "for (dirpath, dirnames, filenames) in os.walk(dirName):\n",
    "    listOfFiles += [os.path.join(dirpath, file) for file in filenames]\n",
    "    \n",
    "print(\"Number of files found: \", len(listOfFiles))\n",
    "\n",
    "# Filter based on format\n",
    "mfiles = []\n",
    "for file in listOfFiles:\n",
    "    if(file.endswith('.mid')):\n",
    "        spl = os.path.splitext(file)[0]\n",
    "        if (not spl[-1].isdigit()):\n",
    "            mfiles.append(file)\n",
    "        \n",
    "print(\"Unique MIDI files found: \", len(mfiles))"
   ]
  },
  {
   "cell_type": "code",
   "execution_count": 5,
   "metadata": {},
   "outputs": [],
   "source": [
    "# Checks if time signature is 4/4\n",
    "def check_ts(ts):\n",
    "    if(ts.numerator==4 and ts.denominator==4):\n",
    "        return True\n",
    "    else:\n",
    "        return False\n",
    "\n",
    "# Check if file satisfies our criteria\n",
    "def check_file(filename):\n",
    "    try:\n",
    "        pm = pretty_midi.PrettyMIDI(fn)\n",
    "        tc = pm.get_tempo_changes()[0]\n",
    "        ts = pm.time_signature_changes\n",
    "        is_ok = [True, True, True]\n",
    "        if(len(tc)>1):\n",
    "            is_ok[0] = False\n",
    "        if(len(ts)>1):\n",
    "            is_ok[1] = False\n",
    "        if (not check_ts(ts[0])):\n",
    "            is_ok[2] = False\n",
    "    except:\n",
    "        is_ok = [False, False, False]\n",
    "        pass\n",
    "    return(is_ok)\n",
    "\n",
    "# Function for naming\n",
    "def create_fn(fn, d):\n",
    "    p = fn.split(\"/\")\n",
    "    p = p[-1].lower().replace(\" \", \"_\")\n",
    "    p = os.path.join(d, p)\n",
    "    return(p)"
   ]
  },
  {
   "cell_type": "code",
   "execution_count": null,
   "metadata": {},
   "outputs": [],
   "source": [
    "# Run the filtering (will take half an hour or so)\n",
    "ok_files = []\n",
    "location = os.path.join('..', 'clean_midi_filtered')\n",
    "j = 0\n",
    "for fn in mfiles:\n",
    "    j += 1\n",
    "    aa = check_file(fn)\n",
    "    if(aa[0] and aa[1] and aa[2]):\n",
    "        ok_files.append(fn)\n",
    "        pm = pretty_midi.PrettyMIDI(fn)\n",
    "        new_name = create_fn(fn, location)\n",
    "        pm.write(new_name)\n",
    "        \n",
    "    if(j%100==0):\n",
    "        print(j, len(ok_files))\n",
    "        "
   ]
  }
 ],
 "metadata": {
  "kernelspec": {
   "display_name": "Python 3",
   "language": "python",
   "name": "python3"
  },
  "language_info": {
   "codemirror_mode": {
    "name": "ipython",
    "version": 3
   },
   "file_extension": ".py",
   "mimetype": "text/x-python",
   "name": "python",
   "nbconvert_exporter": "python",
   "pygments_lexer": "ipython3",
   "version": "3.6.8"
  }
 },
 "nbformat": 4,
 "nbformat_minor": 2
}
