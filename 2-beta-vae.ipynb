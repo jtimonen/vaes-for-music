{
 "cells": [
  {
   "cell_type": "markdown",
   "metadata": {},
   "source": [
    "# 1. Creating and training a beta-VAE model for music\n",
    "In this notebook we create a beta-VAE model and train it. After training, we use the model to generate new music pieces. Before running this notebook, we have preprocessed the data as presented in\n",
    "\n",
    "* `A_filter.ipynb`\n",
    "* `B_map_instruments.ipynb`\n",
    "* `C_slice_tracks.ipynb`"
   ]
  },
  {
   "cell_type": "code",
   "execution_count": 12,
   "metadata": {},
   "outputs": [
    {
     "name": "stdout",
     "output_type": "stream",
     "text": [
      "Device: cuda\n"
     ]
    }
   ],
   "source": [
    "import torch\n",
    "import torch.nn as nn\n",
    "import torch.nn.functional as F\n",
    "from torch.autograd import Variable\n",
    "from IPython.display import Image\n",
    "from IPython.core.display import Image, display\n",
    "from torchvision import datasets\n",
    "from torchvision import transforms\n",
    "from torchvision.utils import save_image\n",
    "from random import randint\n",
    "import os \n",
    "import numpy as np\n",
    "import pypianoroll as ppr\n",
    "from PIL import Image as PIL_Image\n",
    "from matplotlib import pyplot as plt\n",
    "from matplotlib import gridspec as grid\n",
    "\n",
    "device = torch.device('cuda')\n",
    "cwd = os.getcwd()\n",
    "print(\"Device:\", device)"
   ]
  },
  {
   "cell_type": "markdown",
   "metadata": {},
   "source": [
    "## 1.1 Create data loaders\n",
    "We create separate loaders for training and test data."
   ]
  },
  {
   "cell_type": "code",
   "execution_count": 13,
   "metadata": {},
   "outputs": [
    {
     "name": "stdout",
     "output_type": "stream",
     "text": [
      "The training set contains 39268 piano rolls.\n",
      "The test set contains 8376 piano rolls.\n"
     ]
    }
   ],
   "source": [
    "BATCH_SIZE = 32\n",
    "train_root = os.path.join('.', 'train_data')\n",
    "test_root  = os.path.join('.', 'test_data')\n",
    "transform  = transforms.Compose([transforms.Grayscale(num_output_channels=1),\n",
    "                                transforms.ToTensor()])\n",
    "train_set    = datasets.ImageFolder(root=train_root, transform = transform)\n",
    "test_set     = datasets.ImageFolder(root=test_root,  transform = transform)\n",
    "train_loader = torch.utils.data.DataLoader(train_set, batch_size=BATCH_SIZE, shuffle=True)\n",
    "test_loader  = torch.utils.data.DataLoader(train_set, batch_size=BATCH_SIZE, shuffle=False)\n",
    "print(\"The training set contains \" + str(len(train_set.imgs)) + \" piano rolls.\")\n",
    "print(\"The test set contains \" + str(len(test_set.imgs)) + \" piano rolls.\")"
   ]
  },
  {
   "cell_type": "markdown",
   "metadata": {},
   "source": [
    "We can load one batch to see example piano rolls. Here plot a grid of 12 piano rolls from the training set. In each panel of the figure,\n",
    "* the 8 leftmost columns correspond to drums\n",
    "* the next 64 columns are bass\n",
    "* the next 64 columns are piano\n",
    "* the last 64 columns are the lead track (trumpet)."
   ]
  },
  {
   "cell_type": "code",
   "execution_count": 14,
   "metadata": {},
   "outputs": [
    {
     "data": {
      "image/png": "[encoded data removed]",
      "text/plain": [
       "<IPython.core.display.Image object>"
      ]
     },
     "execution_count": 14,
     "metadata": {},
     "output_type": "execute_result"
    }
   ],
   "source": [
    "im, _ = next(iter(train_loader))\n",
    "save_image(im[0:12,:,:,], 'training_examples.png', nrow = 4, pad_value = 0.2)\n",
    "Image('training_examples.png')"
   ]
  },
  {
   "cell_type": "markdown",
   "metadata": {},
   "source": [
    "## 1.2 Define model\n",
    "We define a class that represents the VAE."
   ]
  },
  {
   "cell_type": "code",
   "execution_count": 15,
   "metadata": {},
   "outputs": [],
   "source": [
    "class VAE(nn.Module):\n",
    "    def __init__(self, x_dim, h_dim1, h_dim2, z_dim):\n",
    "        super(VAE, self).__init__()\n",
    "        \n",
    "        # encoder part\n",
    "        self.fc1 = nn.Linear(x_dim, h_dim1)\n",
    "        self.fc2 = nn.Linear(h_dim1, h_dim2)\n",
    "        self.fc31 = nn.Linear(h_dim2, z_dim)\n",
    "        self.fc32 = nn.Linear(h_dim2, z_dim)\n",
    "        # decoder part\n",
    "        self.fc4 = nn.Linear(z_dim, h_dim2)\n",
    "        self.fc5 = nn.Linear(h_dim2, h_dim1)\n",
    "        self.fc6 = nn.Linear(h_dim1, x_dim)\n",
    "        \n",
    "    def encoder(self, x):\n",
    "        h = F.relu(self.fc1(x))\n",
    "        h = F.relu(self.fc2(h))\n",
    "        return self.fc31(h), self.fc32(h) # mu, log_var\n",
    "    \n",
    "    def sampling(self, mu, log_var):\n",
    "        std = torch.exp(0.5*log_var)\n",
    "        eps = torch.randn_like(std)\n",
    "        return eps.mul(std).add_(mu) # return z sample\n",
    "        \n",
    "    def decoder(self, z):\n",
    "        h = F.relu(self.fc4(z))\n",
    "        h = F.relu(self.fc5(h))\n",
    "        return torch.sigmoid(self.fc6(h)) \n",
    "    \n",
    "    def forward(self, x):\n",
    "        mu, log_var = self.encoder(x.view(-1, 128*200))\n",
    "        z = self.sampling(mu, log_var)\n",
    "        return self.decoder(z), mu, log_var"
   ]
  },
  {
   "cell_type": "markdown",
   "metadata": {},
   "source": [
    "## 1.3 Training\n",
    "The network dimensions and optimizer settings can be defined here."
   ]
  },
  {
   "cell_type": "code",
   "execution_count": 16,
   "metadata": {},
   "outputs": [
    {
     "name": "stdout",
     "output_type": "stream",
     "text": [
      "VAE(\n",
      "  (fc1): Linear(in_features=25600, out_features=512, bias=True)\n",
      "  (fc2): Linear(in_features=512, out_features=128, bias=True)\n",
      "  (fc31): Linear(in_features=128, out_features=24, bias=True)\n",
      "  (fc32): Linear(in_features=128, out_features=24, bias=True)\n",
      "  (fc4): Linear(in_features=24, out_features=128, bias=True)\n",
      "  (fc5): Linear(in_features=128, out_features=512, bias=True)\n",
      "  (fc6): Linear(in_features=512, out_features=25600, bias=True)\n",
      ")\n"
     ]
    }
   ],
   "source": [
    "D_LATENT = 24\n",
    "vae = VAE(x_dim=128*200, h_dim1= 512, h_dim2=128, z_dim=D_LATENT)\n",
    "vae.cuda()\n",
    "optimizer = torch.optim.Adam(vae.parameters(), lr = 0.001)\n",
    "print(vae)"
   ]
  },
  {
   "cell_type": "markdown",
   "metadata": {},
   "source": [
    "Below we define functions for loss, training and testing."
   ]
  },
  {
   "cell_type": "code",
   "execution_count": 17,
   "metadata": {},
   "outputs": [],
   "source": [
    "# returns reconstruction error + KL divergence losses\n",
    "def loss_function(recon_x, x, mu, log_var):\n",
    "    BCE = F.binary_cross_entropy(recon_x, x.view(-1, 128*200), reduction='sum')\n",
    "    KLD = -0.5 * torch.sum(1 + log_var - mu.pow(2) - log_var.exp())\n",
    "    return BCE + 0.001*KLD\n",
    "\n",
    "def train(epoch):\n",
    "    vae.train()\n",
    "    train_loss = 0\n",
    "    for batch_idx, (data, _) in enumerate(train_loader):\n",
    "        data = data.cuda()\n",
    "        optimizer.zero_grad()       \n",
    "        recon_batch, mu, log_var = vae(data)\n",
    "        loss = loss_function(recon_batch, data, mu, log_var)        \n",
    "        loss.backward()\n",
    "        train_loss += loss.item()\n",
    "        optimizer.step()\n",
    "        \n",
    "    mloss = train_loss / len(train_loader.dataset)\n",
    "    print('Epoch: {}, Average training loss: {:.6f}'.format(epoch, mloss))\n",
    "    return mloss\n",
    "\n",
    "def test(epoch_idx):\n",
    "    vae.eval()\n",
    "    test_loss= 0\n",
    "    with torch.no_grad():\n",
    "        for data, _ in test_loader:\n",
    "            data = data.to(device)\n",
    "            recon, mu, log_var = vae(data)\n",
    "            test_loss += loss_function(recon, data, mu, log_var).item()\n",
    "            \n",
    "    test_loss /= len(test_loader.dataset)\n",
    "    print('Test set loss: {:.6f}'.format(test_loss))\n",
    "    return test_loss\n",
    "              \n",
    "def save_model(epoch_idx):\n",
    "    with torch.no_grad():\n",
    "        filename = './pth/beta' + str(D_LATENT) + '/vae_' + str(epoch_idx).zfill(4) + '.pth'\n",
    "        torch.save({'state_dict': vae.state_dict()}, filename)"
   ]
  },
  {
   "cell_type": "markdown",
   "metadata": {},
   "source": [
    "Now we can run the training (takes several hours)."
   ]
  },
  {
   "cell_type": "code",
   "execution_count": null,
   "metadata": {
    "scrolled": false
   },
   "outputs": [
    {
     "name": "stdout",
     "output_type": "stream",
     "text": [
      "Epoch: 1, Average training loss: 1927.570343\n",
      "Test set loss: 1577.379164\n",
      "Epoch: 2, Average training loss: 1494.794774\n",
      "Test set loss: 1409.942401\n",
      "Epoch: 3, Average training loss: 1371.326308\n",
      "Test set loss: 1317.381674\n",
      "Epoch: 4, Average training loss: 1302.569996\n",
      "Test set loss: 1253.443589\n",
      "Epoch: 5, Average training loss: 1250.617318\n",
      "Test set loss: 1199.417142\n",
      "Epoch: 6, Average training loss: 1210.249467\n",
      "Test set loss: 1172.004235\n",
      "Epoch: 7, Average training loss: 1180.011977\n",
      "Test set loss: 1145.340969\n",
      "Epoch: 8, Average training loss: 1155.665078\n",
      "Test set loss: 1113.695122\n",
      "Epoch: 9, Average training loss: 1134.999603\n",
      "Test set loss: 1095.561615\n",
      "Epoch: 10, Average training loss: 1117.917023\n",
      "Test set loss: 1087.315326\n",
      "Epoch: 11, Average training loss: 1104.547825\n",
      "Test set loss: 1077.094456\n",
      "Epoch: 12, Average training loss: 1090.727572\n",
      "Test set loss: 1052.449895\n",
      "Epoch: 13, Average training loss: 1079.482178\n",
      "Test set loss: 1048.020500\n",
      "Epoch: 14, Average training loss: 1070.343661\n",
      "Test set loss: 1036.502721\n",
      "Epoch: 15, Average training loss: 1061.364284\n",
      "Test set loss: 1038.279326\n",
      "Epoch: 16, Average training loss: 1054.022040\n",
      "Test set loss: 1021.043165\n",
      "Epoch: 17, Average training loss: 1046.510871\n",
      "Test set loss: 1018.997376\n",
      "Epoch: 18, Average training loss: 1040.274028\n",
      "Test set loss: 1011.056549\n",
      "Epoch: 19, Average training loss: 1034.220095\n",
      "Test set loss: 1011.235741\n",
      "Epoch: 20, Average training loss: 1028.810345\n",
      "Test set loss: 999.027283\n",
      "Epoch: 21, Average training loss: 1023.389903\n",
      "Test set loss: 998.873546\n",
      "Epoch: 22, Average training loss: 1019.023981\n",
      "Test set loss: 995.970752\n",
      "Epoch: 23, Average training loss: 1014.671605\n",
      "Test set loss: 985.495243\n",
      "Epoch: 24, Average training loss: 1010.427531\n",
      "Test set loss: 982.027051\n",
      "Epoch: 25, Average training loss: 1005.263271\n",
      "Test set loss: 981.365760\n",
      "Epoch: 26, Average training loss: 1002.743795\n",
      "Test set loss: 977.019294\n",
      "Epoch: 27, Average training loss: 999.749066\n",
      "Test set loss: 974.830528\n",
      "Epoch: 28, Average training loss: 996.511292\n",
      "Test set loss: 964.303870\n",
      "Epoch: 29, Average training loss: 993.022289\n",
      "Test set loss: 975.523886\n",
      "Epoch: 30, Average training loss: 989.971954\n",
      "Test set loss: 965.642362\n",
      "Epoch: 31, Average training loss: 987.479765\n",
      "Test set loss: 959.238666\n",
      "Epoch: 32, Average training loss: 984.098133\n",
      "Test set loss: 956.129555\n",
      "Epoch: 33, Average training loss: 981.624005\n",
      "Test set loss: 957.614413\n",
      "Epoch: 34, Average training loss: 979.038317\n",
      "Test set loss: 958.300810\n",
      "Epoch: 35, Average training loss: 976.740996\n",
      "Test set loss: 956.938479\n",
      "Epoch: 36, Average training loss: 974.956123\n",
      "Test set loss: 947.300151\n",
      "Epoch: 37, Average training loss: 972.616080\n",
      "Test set loss: 959.470491\n",
      "Epoch: 38, Average training loss: 970.446495\n",
      "Test set loss: 945.556757\n",
      "Epoch: 39, Average training loss: 969.388019\n",
      "Test set loss: 942.114084\n",
      "Epoch: 40, Average training loss: 966.331617\n",
      "Test set loss: 955.034711\n",
      "Epoch: 41, Average training loss: 965.689663\n",
      "Test set loss: 941.340279\n",
      "Epoch: 42, Average training loss: 962.736792\n",
      "Test set loss: 942.167458\n",
      "Epoch: 43, Average training loss: 960.014953\n",
      "Test set loss: 942.111664\n",
      "Epoch: 44, Average training loss: 959.655844\n",
      "Test set loss: 932.185993\n",
      "Epoch: 45, Average training loss: 957.510020\n",
      "Test set loss: 935.016942\n",
      "Epoch: 46, Average training loss: 955.925385\n",
      "Test set loss: 933.910307\n",
      "Epoch: 47, Average training loss: 954.606070\n",
      "Test set loss: 942.177538\n",
      "Epoch: 48, Average training loss: 952.711022\n",
      "Test set loss: 946.030564\n",
      "Epoch: 49, Average training loss: 955.528344\n",
      "Test set loss: 937.912539\n",
      "Epoch: 50, Average training loss: 950.995011\n",
      "Test set loss: 922.295051\n",
      "Epoch: 51, Average training loss: 948.663092\n",
      "Test set loss: 920.395791\n",
      "Epoch: 52, Average training loss: 947.020425\n",
      "Test set loss: 927.115047\n",
      "Epoch: 53, Average training loss: 945.659509\n",
      "Test set loss: 924.077342\n",
      "Epoch: 54, Average training loss: 944.353493\n",
      "Test set loss: 919.415970\n",
      "Epoch: 55, Average training loss: 944.417742\n",
      "Test set loss: 924.828436\n",
      "Epoch: 56, Average training loss: 942.693377\n",
      "Test set loss: 926.462620\n",
      "Epoch: 57, Average training loss: 940.354199\n",
      "Test set loss: 925.712401\n",
      "Epoch: 58, Average training loss: 940.297651\n",
      "Test set loss: 921.324260\n",
      "Epoch: 59, Average training loss: 940.829569\n",
      "Test set loss: 920.604301\n",
      "Epoch: 60, Average training loss: 938.826164\n",
      "Test set loss: 919.337432\n",
      "Epoch: 61, Average training loss: 936.763957\n",
      "Test set loss: 928.587935\n",
      "Epoch: 62, Average training loss: 934.789989\n",
      "Test set loss: 920.352839\n",
      "Epoch: 63, Average training loss: 935.512832\n",
      "Test set loss: 917.838965\n",
      "Epoch: 64, Average training loss: 934.087671\n",
      "Test set loss: 908.357566\n",
      "Epoch: 65, Average training loss: 933.110224\n",
      "Test set loss: 911.150915\n",
      "Epoch: 66, Average training loss: 931.780283\n",
      "Test set loss: 919.213848\n",
      "Epoch: 67, Average training loss: 931.344874\n",
      "Test set loss: 911.424333\n",
      "Epoch: 68, Average training loss: 929.820134\n",
      "Test set loss: 923.164880\n",
      "Epoch: 69, Average training loss: 929.099219\n",
      "Test set loss: 908.349246\n",
      "Epoch: 70, Average training loss: 929.893388\n",
      "Test set loss: 912.766118\n",
      "Epoch: 71, Average training loss: 927.853063\n",
      "Test set loss: 905.237097\n",
      "Epoch: 72, Average training loss: 927.512173\n",
      "Test set loss: 910.416139\n",
      "Epoch: 73, Average training loss: 925.402387\n",
      "Test set loss: 902.674526\n",
      "Epoch: 74, Average training loss: 924.550523\n",
      "Test set loss: 905.765425\n",
      "Epoch: 75, Average training loss: 924.648615\n",
      "Test set loss: 927.682591\n",
      "Epoch: 76, Average training loss: 923.783636\n",
      "Test set loss: 905.758978\n",
      "Epoch: 77, Average training loss: 923.053288\n",
      "Test set loss: 901.737315\n",
      "Epoch: 78, Average training loss: 923.917677\n",
      "Test set loss: 901.698097\n",
      "Epoch: 79, Average training loss: 921.280017\n",
      "Test set loss: 903.369380\n",
      "Epoch: 80, Average training loss: 930.648453\n",
      "Test set loss: 913.410383\n",
      "Epoch: 81, Average training loss: 920.397602\n",
      "Test set loss: 903.619829\n",
      "Epoch: 82, Average training loss: 917.241388\n",
      "Test set loss: 898.357172\n",
      "Epoch: 83, Average training loss: 917.664899\n",
      "Test set loss: 896.820475\n",
      "Epoch: 84, Average training loss: 918.168721\n",
      "Test set loss: 895.842720\n",
      "Epoch: 85, Average training loss: 918.855726\n",
      "Test set loss: 901.384227\n",
      "Epoch: 86, Average training loss: 917.968613\n",
      "Test set loss: 908.340025\n",
      "Epoch: 87, Average training loss: 915.990993\n"
     ]
    }
   ],
   "source": [
    "os.mkdir('./pth/beta' + str(D_LATENT))\n",
    "loss1 = np.zeros(1000)\n",
    "loss2 = np.zeros(1000)\n",
    "for epoch in range(1, 1000):\n",
    "    loss1[epoch-1] = train(epoch)\n",
    "    loss2[epoch-1] = test(epoch)\n",
    "    if(epoch%100==0):\n",
    "        save_model(epoch)"
   ]
  },
  {
   "cell_type": "markdown",
   "metadata": {},
   "source": [
    "After training we visualize the training and test loss over the epochs."
   ]
  },
  {
   "cell_type": "code",
   "execution_count": 25,
   "metadata": {},
   "outputs": [
    {
     "data": {
      "image/png": "[encoded data removed]",
      "text/plain": [
       "<Figure size 576x360 with 1 Axes>"
      ]
     },
     "metadata": {
      "needs_background": "light"
     },
     "output_type": "display_data"
    }
   ],
   "source": [
    "plt.figure(figsize=(8,5))\n",
    "plt.rcParams.update({'font.size': 16})\n",
    "plt.plot(loss1[0:300])\n",
    "plt.plot(loss2[0:300])\n",
    "plt.legend(['Training loss', 'Test loss'])\n",
    "plt.xlabel('epoch')\n",
    "plt.savefig('loss.png')\n",
    "plt.show()"
   ]
  },
  {
   "cell_type": "markdown",
   "metadata": {},
   "source": [
    "# 2. Generating new music\n",
    "We can now use our trained model to create new 'songs' by drawing random samples from the latent prior and decoding them."
   ]
  },
  {
   "cell_type": "markdown",
   "metadata": {},
   "source": [
    "## 2.1 Load trained model"
   ]
  },
  {
   "cell_type": "code",
   "execution_count": 28,
   "metadata": {},
   "outputs": [
    {
     "name": "stdout",
     "output_type": "stream",
     "text": [
      "Param name: fc1.weight , Size = torch.Size([512, 25600])\n",
      "Param name: fc1.bias , Size = torch.Size([512])\n",
      "Param name: fc2.weight , Size = torch.Size([128, 512])\n",
      "Param name: fc2.bias , Size = torch.Size([128])\n",
      "Param name: fc31.weight , Size = torch.Size([16, 128])\n",
      "Param name: fc31.bias , Size = torch.Size([16])\n",
      "Param name: fc32.weight , Size = torch.Size([16, 128])\n",
      "Param name: fc32.bias , Size = torch.Size([16])\n",
      "Param name: fc4.weight , Size = torch.Size([128, 16])\n",
      "Param name: fc4.bias , Size = torch.Size([128])\n",
      "Param name: fc5.weight , Size = torch.Size([512, 128])\n",
      "Param name: fc5.bias , Size = torch.Size([512])\n",
      "Param name: fc6.weight , Size = torch.Size([25600, 512])\n",
      "Param name: fc6.bias , Size = torch.Size([25600])\n"
     ]
    }
   ],
   "source": [
    "checkpoint = torch.load('pth/beta24/vae_0100.pth')\n",
    "vae.load_state_dict(checkpoint['state_dict'])\n",
    "vae.eval()\n",
    "for name, param in vae.named_parameters():\n",
    "    if param.requires_grad:\n",
    "        print(\"Param name:\", name, \", Size =\", param.data.shape)"
   ]
  },
  {
   "cell_type": "markdown",
   "metadata": {},
   "source": [
    "## 2.2 Draw and decode new samples"
   ]
  },
  {
   "cell_type": "markdown",
   "metadata": {},
   "source": [
    "Define functions for drawing samples, decoding and saving as MIDI."
   ]
  },
  {
   "cell_type": "code",
   "execution_count": 29,
   "metadata": {},
   "outputs": [],
   "source": [
    "def decode_numpy(arr):\n",
    "    with torch.no_grad():\n",
    "        z = torch.from_numpy(arr).float().to(device)\n",
    "        sample = vae.decoder(z)\n",
    "        smp = sample.view(128, 200).cpu().data.numpy()\n",
    "        return(smp)\n",
    "        \n",
    "def random_numpy():\n",
    "    with torch.no_grad():\n",
    "        z = torch.randn(1, D_LATENT).cuda()\n",
    "        sample = vae.decoder(z).cuda()\n",
    "        smp = sample.view(128, 200).cpu().data.numpy()\n",
    "        return(smp)\n",
    "    \n",
    "def binarize(track, threshold):\n",
    "    track = 100*(track>threshold).astype('int')\n",
    "    return(track)\n",
    "\n",
    "def numpy_to_tracks(a, THRESHOLDS, use_tresh = True):\n",
    "    piano = np.zeros((128, 128))\n",
    "    bass  = np.zeros((128, 128))\n",
    "    lead  = np.zeros((128, 128))\n",
    "    drum  = np.zeros((128, 128))\n",
    "    piano[:, 16:(16+64)]               = a[:,(8+64):(8+2*64)]\n",
    "    bass[:, 0:64]                      = a[:,8:(8+64)]\n",
    "    lead[:, 48:(48+64)]                = a[:,(8+2*64):(8+3*64)]\n",
    "    drum[:, (35,38,42,43,46,47,49,51)] = a[:,0:8]\n",
    "    if(use_tresh):\n",
    "        piano = binarize(piano, THRESHOLDS[0])\n",
    "        bass = binarize(bass, THRESHOLDS[1])\n",
    "        lead = binarize(lead, THRESHOLDS[2])\n",
    "        drum = binarize(drum, THRESHOLDS[3])\n",
    "        \n",
    "    t0 = ppr.Track(pianoroll=piano, program=0, is_drum=False, name='piano')\n",
    "    t1 = ppr.Track(pianoroll=bass, program=34, is_drum=False, name='bass')\n",
    "    t2 = ppr.Track(pianoroll=lead, program=56, is_drum=False, name='lead')\n",
    "    t3 = ppr.Track(pianoroll=drum, program=0, is_drum=True, name='drums')\n",
    "    multitrack = ppr.Multitrack(tracks=[t2,t0,t1,t3], tempo=120.0,\n",
    "                        downbeat=[0, 32, 64, 96], beat_resolution=4)\n",
    "    return(multitrack)\n",
    "\n",
    "def generate_random_tracks(h, binarize):\n",
    "    #arr = np.random.normal(size=(1, D_LATENT))\n",
    "    smp = random_numpy()\n",
    "    trk = numpy_to_tracks(smp, h, binarize)\n",
    "    return(trk)\n",
    "\n",
    "def generate_random(filename, thresholds = 0.5*np.ones(4), verbose = True, binarize = True):\n",
    "    trk = generate_random_tracks(thresholds, binarize)\n",
    "    visualize(trk, filename)\n",
    "    if verbose:\n",
    "        print('Writing', filename)\n",
    "    trk.write(filename)\n",
    "\n",
    "def get_pianoroll(track):\n",
    "    if(track.name=='piano'):\n",
    "        i1 = 16\n",
    "        i2 = 16+64\n",
    "    elif(track.name=='bass'):\n",
    "        i1 = 0\n",
    "        i2 = 64\n",
    "    else:\n",
    "        i1 = 48\n",
    "        i2 = 48+64\n",
    "    mat = track.pianoroll[:, i1:i2]\n",
    "    return(mat)\n",
    "    \n",
    "def get_drumroll(track):\n",
    "    mat = track.pianoroll[:,(35,38,42,43,46,47,49,51)]\n",
    "    return(mat)\n",
    "\n",
    "def visualize(trk, fn, show = False, save = True):\n",
    "    p = fn\n",
    "    p = p[0:(len(p)-4)]\n",
    "    p = p + '.png'\n",
    "\n",
    "    t0 = get_pianoroll(trk.tracks[0])\n",
    "    t1 = get_pianoroll(trk.tracks[1])\n",
    "    t2 = get_pianoroll(trk.tracks[2])\n",
    "    t3 = get_drumroll(trk.tracks[3])\n",
    "    grid.GridSpec(2,2)\n",
    "    fig = plt.figure(figsize=(10,6))\n",
    "    plt.rcParams.update({'font.size': 14})\n",
    "\n",
    "    # Plot lead\n",
    "    plt.subplot2grid((1,4), (0,0))\n",
    "    plt.imshow(t0, aspect = 'auto', cmap = 'Greens')\n",
    "    plt.title('Lead')\n",
    "    plt.ylabel('Time step')\n",
    "    plt.xlabel('Note')\n",
    "    plt.xticks([0,12,24,36,48,60], ['C3', 'C4', 'C5', 'C6', 'C7', 'C8'])\n",
    "    \n",
    "    # Plot piano\n",
    "    plt.subplot2grid((1,4), (0,1))\n",
    "    plt.imshow(t1, aspect = 'auto', cmap = 'Reds')\n",
    "    plt.title('Piano')\n",
    "    plt.xlabel('Note')\n",
    "    plt.xticks([0,12,24,36,48,60], ['E1', 'E2', 'E3', 'E4', 'E5', 'E6'])\n",
    "    \n",
    "    # Plot bass\n",
    "    plt.subplot2grid((1,4), (0,2))\n",
    "    plt.imshow(t2, aspect = 'auto', cmap = 'Blues')\n",
    "    plt.title('Bass')\n",
    "    plt.xlabel('Note')\n",
    "    plt.xticks([0,12,24,36,48,60], ['C-1', 'C0', 'C1', 'C2', 'C3', 'C4'])\n",
    "    \n",
    "    # Plot drums\n",
    "    plt.subplot2grid((1,4), (0,3))\n",
    "    plt.imshow(t3, aspect = 'auto', cmap = 'Greys')\n",
    "    plt.title('Drums')\n",
    "    plt.xticks([0,1,2,3,4,5,6,7,8], ['kick', 'snare',' closed hat',  'low tom', 'open hat', 'high tom', 'crash', 'ride'],\n",
    "              rotation='vertical')\n",
    "    \n",
    "    fig.tight_layout()\n",
    "    if save:\n",
    "        fig.savefig(p)\n",
    "        \n",
    "    if show:\n",
    "        plt.show()\n",
    "    else:\n",
    "        plt.close()"
   ]
  },
  {
   "cell_type": "markdown",
   "metadata": {},
   "source": [
    "Here we generate 100 samples."
   ]
  },
  {
   "cell_type": "code",
   "execution_count": null,
   "metadata": {},
   "outputs": [],
   "source": [
    "THRESHOLDS = [0.3, 0.3, 0.6, 0.3]\n",
    "for i in range(0,100):\n",
    "    fn = 'samples/random_' + str(i).zfill(3) + '.mid'\n",
    "    generate_random(fn, THRESHOLDS, binarize = True)"
   ]
  },
  {
   "cell_type": "code",
   "execution_count": null,
   "metadata": {},
   "outputs": [],
   "source": []
  }
 ],
 "metadata": {
  "kernelspec": {
   "display_name": "Python 3",
   "language": "python",
   "name": "python3"
  },
  "language_info": {
   "codemirror_mode": {
    "name": "ipython",
    "version": 3
   },
   "file_extension": ".py",
   "mimetype": "text/x-python",
   "name": "python",
   "nbconvert_exporter": "python",
   "pygments_lexer": "ipython3",
   "version": "3.6.8"
  }
 },
 "nbformat": 4,
 "nbformat_minor": 2
}
