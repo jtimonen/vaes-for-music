{
 "cells": [
  {
   "cell_type": "markdown",
   "metadata": {},
   "source": [
    "# Remapping MIDI instruments\n",
    "In this notebook we study the MIDI instruments and merge similar instruments into one track."
   ]
  },
  {
   "cell_type": "code",
   "execution_count": 1,
   "metadata": {},
   "outputs": [],
   "source": [
    "import pretty_midi\n",
    "import numpy as np\n",
    "import collections\n",
    "import os\n",
    "import pypianoroll as ppr"
   ]
  },
  {
   "cell_type": "code",
   "execution_count": 2,
   "metadata": {},
   "outputs": [
    {
     "name": "stdout",
     "output_type": "stream",
     "text": [
      "Number of files found:  5051\n"
     ]
    }
   ],
   "source": [
    "# Get all filtered files\n",
    "files = list()\n",
    "dirName = os.path.join(\"..\", \"data_filtered\") # path to filtered data\n",
    "for (dirpath, dirnames, filenames) in os.walk(dirName):\n",
    "    files += [os.path.join(dirpath, file) for file in filenames]\n",
    "    \n",
    "print(\"Number of files found: \", len(files))\n"
   ]
  },
  {
   "cell_type": "code",
   "execution_count": 3,
   "metadata": {},
   "outputs": [
    {
     "name": "stdout",
     "output_type": "stream",
     "text": [
      "1. Pianos: ['Acoustic Grand Piano', 'Bright Acoustic Piano', 'Electric Grand Piano', 'Honky-tonk Piano', 'Electric Piano 1', 'Electric Piano 2', 'Harpsichord', 'Clavinet', 'Celesta', 'Rock Organ', 'Church Organ', 'Reed Organ', 'Accordion', 'Harmonica', 'Tango Accordion']\n",
      "\n",
      "2. Guitars: ['Acoustic Guitar (nylon)', 'Acoustic Guitar (steel)', 'Electric Guitar (jazz)', 'Electric Guitar (clean)', 'Electric Guitar (muted)', 'Overdriven Guitar', 'Distortion Guitar', 'Guitar Harmonics']\n",
      "\n",
      "3. Basses: ['Acoustic Bass', 'Electric Bass (finger)', 'Electric Bass (pick)', 'Fretless Bass', 'Slap Bass 1', 'Slap Bass 2', 'Synth Bass 1', 'Synth Bass 2']\n",
      "\n",
      "4. String: ['Violin', 'Viola', 'Cello', 'Contrabass', 'Tremolo Strings', 'Pizzicato Strings', 'Orchestral Harp', 'Timpani', 'String Ensemble 1', 'String Ensemble 2', 'Synth Strings 1', 'Synth Strings 2', 'Choir Aahs', 'Voice Oohs', 'Synth Choir', 'Orchestra Hit']\n",
      "\n",
      "5. Lead: ['Trumpet', 'Trombone', 'Tuba', 'Muted Trumpet', 'French Horn', 'Brass Section', 'Synth Brass 1', 'Synth Brass 2', 'Soprano Sax', 'Alto Sax', 'Tenor Sax', 'Baritone Sax', 'Oboe', 'English Horn', 'Bassoon', 'Clarinet', 'Piccolo', 'Flute', 'Recorder', 'Pan Flute', 'Blown bottle', 'Shakuhachi', 'Whistle', 'Ocarina', 'Lead 1 (square)', 'Lead 2 (sawtooth)', 'Lead 3 (calliope)', 'Lead 4 chiff', 'Lead 5 (charang)', 'Lead 6 (voice)', 'Lead 7 (fifths)', 'Lead 8 (bass + lead)']\n",
      "\n",
      "6. Other: ['Pad 1 (new age)', 'Pad 2 (warm)', 'Pad 3 (polysynth)', 'Pad 4 (choir)', 'Pad 5 (bowed)', 'Pad 6 (metallic)', 'Pad 7 (halo)', 'Pad 8 (sweep)', 'FX 1 (rain)', 'FX 2 (soundtrack)', 'FX 3 (crystal)', 'FX 4 (atmosphere)', 'FX 5 (brightness)', 'FX 6 (goblins)', 'FX 7 (echoes)', 'FX 8 (sci-fi)', 'Sitar', 'Banjo', 'Shamisen', 'Koto', 'Kalimba', 'Bagpipe', 'Fiddle', 'Shanai', 'Tinkle Bell', 'Agogo', 'Steel Drums', 'Woodblock', 'Taiko Drum', 'Melodic Tom', 'Synth Drum', 'Reverse Cymbal', 'Guitar Fret Noise', 'Breath Noise', 'Seashore', 'Bird Tweet', 'Telephone Ring', 'Helicopter', 'Applause', 'Gunshot']\n"
     ]
    }
   ],
   "source": [
    "# Show the instrument map\n",
    "imap = pretty_midi.INSTRUMENT_MAP\n",
    "pianos = imap[0:9] + imap[18:24]\n",
    "print(\"1. Pianos:\", pianos)\n",
    "guitars = imap[24:32]\n",
    "print(\"\\n2. Guitars:\", guitars)\n",
    "basses = imap[32:40]\n",
    "print(\"\\n3. Basses:\", basses)\n",
    "strings = imap[40:56]\n",
    "print(\"\\n4. String:\", strings)\n",
    "lead = imap[56:88]\n",
    "print(\"\\n5. Lead:\", lead)\n",
    "others = imap[88:128]\n",
    "print(\"\\n6. Other:\", others)"
   ]
  },
  {
   "cell_type": "code",
   "execution_count": 32,
   "metadata": {},
   "outputs": [],
   "source": [
    "# function for editing instruments\n",
    "def edit_instruments(pm):\n",
    "    new_inst = []\n",
    "    for ins in pm.instruments:\n",
    "        nam = ins.name.lower()\n",
    "        key0 = \"drum\" in nam\n",
    "        ins.name  = nam\n",
    "        if(ins.is_drum or key0):\n",
    "            ins.program = 0\n",
    "            ins.is_drum = True\n",
    "            new_inst.append(ins)\n",
    "        else:        \n",
    "            key1 = \"bass\" in nam\n",
    "            key3 = \"melody\" in nam\n",
    "            key4 = \"lead\" in nam\n",
    "            key5 = \"vocal\" in nam\n",
    "            key6 = \"lyric\" in nam\n",
    "            is_rhythm = ins.program in range(0,9) or ins.program in range(18,32) or ...\n",
    "            ins.program in range(40,47) or ins.program in range(48,55)\n",
    "            is_bass   = ins.program in range(32,40) or key1\n",
    "            is_lead   = ins.program in range(56,96) or key3 or key4 or key5 or key6\n",
    "            if(is_lead):\n",
    "                ins.program = 56 # trumpet\n",
    "                new_inst.append(ins)\n",
    "            elif(is_bass):\n",
    "                ins.program = 34 # bass\n",
    "                new_inst.append(ins)\n",
    "            elif(is_rhythm):\n",
    "                ins.program = 0# piano\n",
    "                new_inst.append(ins)\n",
    "    pm.instruments = new_inst\n",
    "    return(pm)\n",
    "\n",
    "# function for pianoroll of drums\n",
    "def edit_drums_roll(pr):\n",
    "    new_pr = np.zeros(pr.shape)\n",
    "    new_pr[:,35] = np.sum(pr[:,(35,36)], axis=1)             # kick\n",
    "    new_pr[:,38] = np.sum(pr[:,(37,38,39,40,91,93)], axis=1) # snare\n",
    "    new_pr[:,42] = np.sum(pr[:,(42,70,82)], axis=1)          # hat closed\n",
    "    new_pr[:,44] = np.sum(pr[:,(44,46)], axis=1)             # hat open\n",
    "    new_pr[:,49] = np.sum(pr[:,(49,52,55,57)], axis=1)       # crash\n",
    "    new_pr[:,51] = np.sum(pr[:,(51,53,56,59)], axis=1)       # ride\n",
    "    new_pr[:,43] = np.sum(pr[:,(41,43,45)], axis=1)          # low tom\n",
    "    new_pr[:,47] = np.sum(pr[:,(47,48)], axis=1)             # middle tom\n",
    "    new_pr[:,50] = np.sum(pr[:,(50,60,61)], axis=1)          # high tom\n",
    "    return(new_pr)\n",
    "    \n",
    "# function for editing drums\n",
    "def edit_drums(roll):\n",
    "    idx  = 0\n",
    "    for trk in roll.tracks:\n",
    "        idx +=1\n",
    "        if(trk.is_drum):\n",
    "            roll.tracks[idx-1].pianoroll = edit_drums_roll(trk.pianoroll)\n",
    "    return(roll)\n",
    "\n",
    "# get indices of merged tracks\n",
    "def get_merged_idx(roll, iref):\n",
    "    irem = []\n",
    "    j = 0\n",
    "    for trk in roll.tracks:\n",
    "        j += 1\n",
    "        if(trk.is_drum):\n",
    "            num = -1\n",
    "        else:\n",
    "            num = trk.program\n",
    "        if(num==iref):\n",
    "            irem.append(j-1)\n",
    "    return irem\n",
    "\n",
    "# downsample and merge some tracks\n",
    "def process(fn):\n",
    "    pm  = pretty_midi.PrettyMIDI(fn)\n",
    "    pm  = edit_instruments(pm)\n",
    "    pm.write(\"./temp.mid\")\n",
    "    roll = ppr.parse(\"./temp.mid\", beat_resolution = 4)\n",
    "    i0 = get_merged_idx(roll, 0)\n",
    "    if(len(i0)> 1):\n",
    "        roll.merge_tracks(i0, mode = 'any', remove_merged = True, is_drum = False, name = \"piano\", program = 0)\n",
    "    i1 = get_merged_idx(roll, 34)\n",
    "    if(len(i1)> 1):\n",
    "        roll.merge_tracks(i1, mode = 'any', remove_merged = True, is_drum = False, name = \"bass\", program = 34)\n",
    "    i2 = get_merged_idx(roll, 56)\n",
    "    if(len(i2)> 1):\n",
    "        roll.merge_tracks(i2, mode = 'any', remove_merged = True, is_drum = False, name = \"melody\", program = 56)   \n",
    "    i3 = get_merged_idx(roll, -1)\n",
    "    if(len(i3)> 1):\n",
    "        roll.merge_tracks(i3, mode = 'any', remove_merged = True, is_drum = True, name = \"drum\", program = 0)\n",
    "    roll = edit_drums(roll)\n",
    "    postfix = fn.split(os.sep)[-1]\n",
    "    out = os.path.join('..','cm4',postfix)\n",
    "    roll.binarize()\n",
    "    roll.write(out)"
   ]
  },
  {
   "cell_type": "code",
   "execution_count": 34,
   "metadata": {},
   "outputs": [
    {
     "name": "stdout",
     "output_type": "stream",
     "text": [
      "130 <-- failed!\n",
      "500\n",
      "1000\n",
      "1500\n",
      "1671 <-- failed!\n",
      "1837 <-- failed!\n",
      "2000\n",
      "2345 <-- failed!\n",
      "2500\n",
      "3000\n",
      "3437 <-- failed!\n",
      "3500\n",
      "3867 <-- failed!\n",
      "3947 <-- failed!\n",
      "4000\n",
      "4103 <-- failed!\n",
      "4500\n",
      "4981 <-- failed!\n",
      "5000\n"
     ]
    }
   ],
   "source": [
    "# Run merging and downsampling for all songs\n",
    "idx = 0\n",
    "for file in files:\n",
    "    idx += 1\n",
    "    try:\n",
    "        process(file)\n",
    "    except:\n",
    "        print(idx, \"<-- failed!\", )\n",
    "        pass\n",
    "    if(idx % 500 == 0):\n",
    "        print(idx)"
   ]
  }
 ],
 "metadata": {
  "kernelspec": {
   "display_name": "Python 3",
   "language": "python",
   "name": "python3"
  },
  "language_info": {
   "codemirror_mode": {
    "name": "ipython",
    "version": 3
   },
   "file_extension": ".py",
   "mimetype": "text/x-python",
   "name": "python",
   "nbconvert_exporter": "python",
   "pygments_lexer": "ipython3",
   "version": "3.6.8"
  }
 },
 "nbformat": 4,
 "nbformat_minor": 2
}
