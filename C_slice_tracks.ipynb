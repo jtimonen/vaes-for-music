{
 "cells": [
  {
   "cell_type": "markdown",
   "metadata": {},
   "source": [
    "# Slicing the tracks \n",
    "In this notebook we split the tracks into small pieces and save them in a format that can be loaded as data for the neural network."
   ]
  },
  {
   "cell_type": "code",
   "execution_count": 1,
   "metadata": {},
   "outputs": [],
   "source": [
    "import pretty_midi\n",
    "import numpy as np\n",
    "import collections\n",
    "import os\n",
    "import pypianoroll as ppr\n",
    "from PIL import Image"
   ]
  },
  {
   "cell_type": "code",
   "execution_count": 2,
   "metadata": {},
   "outputs": [
    {
     "name": "stdout",
     "output_type": "stream",
     "text": [
      "Number of files found:  5042\n"
     ]
    }
   ],
   "source": [
    "# Get all files\n",
    "files = list()\n",
    "dirName = os.path.join(\"..\", \"data_mapped\") # path to mapped data\n",
    "for (dirpath, dirnames, filenames) in os.walk(dirName):\n",
    "    files += [os.path.join(dirpath, file) for file in filenames]\n",
    "    \n",
    "print(\"Number of files found: \", len(files))\n",
    "\n",
    "# Save song names as txt\n",
    "idx = 0\n",
    "names_out = files\n",
    "for fn in files:\n",
    "    idx += 1\n",
    "    sn = fn.split(os.sep)[-1]\n",
    "    sn = sn[0:(len(sn)-3)]\n",
    "    sn = str(idx).zfill(4) + '_' + sn\n",
    "    names_out[idx-1] = sn\n",
    "    \n",
    "np.savetxt('song_names.txt', names_out, delimiter=\" \", fmt=\"%s\")"
   ]
  },
  {
   "cell_type": "code",
   "execution_count": 4,
   "metadata": {},
   "outputs": [],
   "source": [
    "# check which tracks exists and return them in a fixed order\n",
    "def get_tracks(pr, active_length):\n",
    "    it = 0\n",
    "    tracks = [0,0,0,0]\n",
    "    for trk in pr.tracks:\n",
    "        it += 1\n",
    "        if(trk.is_drum):\n",
    "            tracks[0] = trk.pianoroll[:, (35,38,42,43,44,47,49,51)] # drum\n",
    "        else:\n",
    "            if(trk.program == 34):\n",
    "                tracks[1] = trk.pianoroll[:, 0:64] # bass\n",
    "            elif(trk.program == 0):\n",
    "                tracks[2] = trk.pianoroll[:, 16:(16+64)] # piano\n",
    "            elif(trk.program == 56):\n",
    "                tracks[3] = trk.pianoroll[:, 48:(48+64)] # lead\n",
    "    \n",
    "    SONG = np.zeros((active_length, 8 + 3*64))\n",
    "    i1 = 8\n",
    "    i2 = 8 + 64\n",
    "    i3 = 8 + 2*64\n",
    "    i4 = 8 + 3*64\n",
    "    RANGES = [range(0,i1), range(i1,i2), range(i2, i3), range(i3, i4)]\n",
    "    it = 0\n",
    "    for idx in range(0,4):\n",
    "        trk = tracks[idx]\n",
    "        if(not isinstance(trk, int)):\n",
    "            d1 = SONG.shape[0]\n",
    "            d2 = trk.shape[0]\n",
    "            d = min(d1, d2)\n",
    "            if(abs(d1-d1)<5):\n",
    "                SONG[1:d, RANGES[idx]] = trk[1:d]\n",
    "    return(SONG.astype('uint8'))\n",
    "                \n",
    "# function for splitting\n",
    "def split_and_save_tracks(fn, p1, p2):\n",
    "    os.mkdir(p1)\n",
    "    pr = ppr.parse(fn, beat_resolution = 4)\n",
    "    pr.binarize()\n",
    "    alen = pr.get_active_length()\n",
    "    blen = 128\n",
    "    SONG = get_tracks(pr, alen) \n",
    "    nbar = np.int(alen/blen) - 2\n",
    "    for b in range(0, nbar):\n",
    "        ibar = 1 + b\n",
    "        out = os.path.join(p1,p2) + '_' + str(ibar).zfill(4) + '.png'\n",
    "        i1 = ibar*blen\n",
    "        i2 = (ibar+1)*blen\n",
    "        BAR = SONG[i1:i2, :]\n",
    "        rate = sum(np.sum(BAR, axis = 1) > 0 )/blen\n",
    "        if(rate > 0.7):\n",
    "            img = Image.fromarray(255*BAR)\n",
    "            img.save(out)"
   ]
  },
  {
   "cell_type": "markdown",
   "metadata": {},
   "source": [
    "Process all files"
   ]
  },
  {
   "cell_type": "code",
   "execution_count": null,
   "metadata": {},
   "outputs": [],
   "source": [
    "idx = 0\n",
    "N = len(files)\n",
    "\n",
    "for fn in files[0:N]:\n",
    "    idx += 1\n",
    "    pos = fn.split(os.sep)[-1]\n",
    "    pos = pos.split('.')[0]\n",
    "    num = str(idx).zfill(4)\n",
    "    p1 = os.path.join('img', 'img' + num) # a subfolder called 'img' must be in the working folder\n",
    "    p2 = 'img' + num + \"_\"\n",
    "    split_and_save_tracks(fn, p1, p2)\n",
    "    if(idx%10==0):\n",
    "        print(idx)"
   ]
  }
 ],
 "metadata": {
  "kernelspec": {
   "display_name": "Python 3",
   "language": "python",
   "name": "python3"
  },
  "language_info": {
   "codemirror_mode": {
    "name": "ipython",
    "version": 3
   },
   "file_extension": ".py",
   "mimetype": "text/x-python",
   "name": "python",
   "nbconvert_exporter": "python",
   "pygments_lexer": "ipython3",
   "version": "3.6.8"
  }
 },
 "nbformat": 4,
 "nbformat_minor": 2
}
