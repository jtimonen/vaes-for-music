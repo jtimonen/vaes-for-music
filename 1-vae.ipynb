{
 "cells": [
  {
   "cell_type": "markdown",
   "metadata": {},
   "source": [
    "# 1. Creating and training a VAE model for music\n",
    "In this notebook we create the VAE model and train it. After training, we use the model to generate new music pieces. Before running this notebook, we have preprocessed the data as presented in\n",
    "\n",
    "* `A_filter.ipynb`\n",
    "* `B_map_instruments.ipynb`\n",
    "* `C_slice_tracks.ipynb`"
   ]
  },
  {
   "cell_type": "code",
   "execution_count": 1,
   "metadata": {},
   "outputs": [
    {
     "name": "stdout",
     "output_type": "stream",
     "text": [
      "Device: cuda\n"
     ]
    }
   ],
   "source": [
    "import torch\n",
    "import torch.nn as nn\n",
    "import torch.nn.functional as F\n",
    "from torch.autograd import Variable\n",
    "from IPython.display import Image\n",
    "from IPython.core.display import Image, display\n",
    "from torchvision import datasets\n",
    "from torchvision import transforms\n",
    "from torchvision.utils import save_image\n",
    "from random import randint\n",
    "import os \n",
    "import numpy as np\n",
    "import pypianoroll as ppr\n",
    "from PIL import Image as PIL_Image\n",
    "from matplotlib import pyplot as plt\n",
    "from matplotlib import gridspec as grid\n",
    "\n",
    "device = torch.device('cuda')\n",
    "cwd = os.getcwd()\n",
    "print(\"Device:\", device)"
   ]
  },
  {
   "cell_type": "markdown",
   "metadata": {},
   "source": [
    "## 1.1 Create data loaders\n",
    "We create separate loaders for training and test data."
   ]
  },
  {
   "cell_type": "code",
   "execution_count": 2,
   "metadata": {},
   "outputs": [
    {
     "name": "stdout",
     "output_type": "stream",
     "text": [
      "The training set contains 39268 piano rolls.\n",
      "The test set contains 8376 piano rolls.\n"
     ]
    }
   ],
   "source": [
    "BATCH_SIZE = 32\n",
    "train_root = os.path.join('.', 'train_data')\n",
    "test_root  = os.path.join('.', 'test_data')\n",
    "transform  = transforms.Compose([transforms.Grayscale(num_output_channels=1),\n",
    "                                transforms.ToTensor()])\n",
    "train_set    = datasets.ImageFolder(root=train_root, transform = transform)\n",
    "test_set     = datasets.ImageFolder(root=test_root,  transform = transform)\n",
    "train_loader = torch.utils.data.DataLoader(train_set, batch_size=BATCH_SIZE, shuffle=True)\n",
    "test_loader  = torch.utils.data.DataLoader(train_set, batch_size=BATCH_SIZE, shuffle=False)\n",
    "print(\"The training set contains \" + str(len(train_set.imgs)) + \" piano rolls.\")\n",
    "print(\"The test set contains \" + str(len(test_set.imgs)) + \" piano rolls.\")"
   ]
  },
  {
   "cell_type": "markdown",
   "metadata": {},
   "source": [
    "We can load one batch to see example piano rolls. Here plot a grid of 12 piano rolls from the training set. In each panel of the figure,\n",
    "* the 8 leftmost columns correspond to drums\n",
    "* the next 64 columns are bass\n",
    "* the next 64 columns are piano\n",
    "* the last 64 columns are the lead track (trumpet)."
   ]
  },
  {
   "cell_type": "code",
   "execution_count": 3,
   "metadata": {},
   "outputs": [
    {
     "name": "stdout",
     "output_type": "stream",
     "text": [
      "torch.Size([32, 1, 128, 200])\n"
     ]
    },
    {
     "data": {
      "image/png": "[encoded data removed]",
      "text/plain": [
       "<IPython.core.display.Image object>"
      ]
     },
     "execution_count": 3,
     "metadata": {},
     "output_type": "execute_result"
    }
   ],
   "source": [
    "im, _ = next(iter(train_loader))\n",
    "print(im.shape)\n",
    "save_image(im[0:12,:,:,], 'training_examples.png', nrow = 4, pad_value = 0.2)\n",
    "Image('training_examples.png')"
   ]
  },
  {
   "cell_type": "markdown",
   "metadata": {},
   "source": [
    "## 1.2 Define model\n",
    "We define a class that represents the VAE."
   ]
  },
  {
   "cell_type": "code",
   "execution_count": 4,
   "metadata": {},
   "outputs": [],
   "source": [
    "class VAE(nn.Module):\n",
    "    def __init__(self, x_dim, h_dim1, h_dim2, z_dim):\n",
    "        super(VAE, self).__init__()\n",
    "        \n",
    "        # encoder part\n",
    "        self.fc1 = nn.Linear(x_dim, h_dim1)\n",
    "        self.fc2 = nn.Linear(h_dim1, h_dim2)\n",
    "        self.fc31 = nn.Linear(h_dim2, z_dim)\n",
    "        self.fc32 = nn.Linear(h_dim2, z_dim)\n",
    "        # decoder part\n",
    "        self.fc4 = nn.Linear(z_dim, h_dim2)\n",
    "        self.fc5 = nn.Linear(h_dim2, h_dim1)\n",
    "        self.fc6 = nn.Linear(h_dim1, x_dim)\n",
    "        \n",
    "    def encoder(self, x):\n",
    "        h = F.relu(self.fc1(x))\n",
    "        h = F.relu(self.fc2(h))\n",
    "        return self.fc31(h), self.fc32(h) # mu, log_var\n",
    "    \n",
    "    def sampling(self, mu, log_var):\n",
    "        std = torch.exp(0.5*log_var)\n",
    "        eps = torch.randn_like(std)\n",
    "        return eps.mul(std).add_(mu) # return z sample\n",
    "        \n",
    "    def decoder(self, z):\n",
    "        h = F.relu(self.fc4(z))\n",
    "        h = F.relu(self.fc5(h))\n",
    "        return torch.sigmoid(self.fc6(h)) \n",
    "    \n",
    "    def forward(self, x):\n",
    "        mu, log_var = self.encoder(x.view(-1, 128*200))\n",
    "        z = self.sampling(mu, log_var)\n",
    "        return self.decoder(z), mu, log_var"
   ]
  },
  {
   "cell_type": "markdown",
   "metadata": {},
   "source": [
    "## 1.3 Training\n",
    "The network dimensions and optimizer settings can be defined here."
   ]
  },
  {
   "cell_type": "code",
   "execution_count": 5,
   "metadata": {},
   "outputs": [
    {
     "name": "stdout",
     "output_type": "stream",
     "text": [
      "VAE(\n",
      "  (fc1): Linear(in_features=25600, out_features=512, bias=True)\n",
      "  (fc2): Linear(in_features=512, out_features=128, bias=True)\n",
      "  (fc31): Linear(in_features=128, out_features=16, bias=True)\n",
      "  (fc32): Linear(in_features=128, out_features=16, bias=True)\n",
      "  (fc4): Linear(in_features=16, out_features=128, bias=True)\n",
      "  (fc5): Linear(in_features=128, out_features=512, bias=True)\n",
      "  (fc6): Linear(in_features=512, out_features=25600, bias=True)\n",
      ")\n"
     ]
    }
   ],
   "source": [
    "D_LATENT = 16\n",
    "vae = VAE(x_dim=128*200, h_dim1= 512, h_dim2=128, z_dim=D_LATENT)\n",
    "vae.cuda()\n",
    "optimizer = torch.optim.Adam(vae.parameters(), lr = 0.001)\n",
    "print(vae)"
   ]
  },
  {
   "cell_type": "markdown",
   "metadata": {},
   "source": [
    "Below we define functions for loss, training and testing."
   ]
  },
  {
   "cell_type": "code",
   "execution_count": 6,
   "metadata": {},
   "outputs": [],
   "source": [
    "# returns reconstruction error + KL divergence losses\n",
    "def loss_function(recon_x, x, mu, log_var):\n",
    "    BCE = F.binary_cross_entropy(recon_x, x.view(-1, 128*200), reduction='sum')\n",
    "    KLD = -0.5 * torch.sum(1 + log_var - mu.pow(2) - log_var.exp())\n",
    "    return BCE + KLD\n",
    "\n",
    "def train(epoch):\n",
    "    vae.train()\n",
    "    train_loss = 0\n",
    "    for batch_idx, (data, _) in enumerate(train_loader):\n",
    "        data = data.cuda()\n",
    "        optimizer.zero_grad()       \n",
    "        recon_batch, mu, log_var = vae(data)\n",
    "        loss = loss_function(recon_batch, data, mu, log_var)        \n",
    "        loss.backward()\n",
    "        train_loss += loss.item()\n",
    "        optimizer.step()\n",
    "        \n",
    "    mloss = train_loss / len(train_loader.dataset)\n",
    "    print('Epoch: {}, Average training loss: {:.6f}'.format(epoch, mloss))\n",
    "    return mloss\n",
    "\n",
    "def test(epoch_idx):\n",
    "    vae.eval()\n",
    "    test_loss= 0\n",
    "    with torch.no_grad():\n",
    "        for data, _ in test_loader:\n",
    "            data = data.to(device)\n",
    "            recon, mu, log_var = vae(data)\n",
    "            test_loss += loss_function(recon, data, mu, log_var).item()\n",
    "            \n",
    "    test_loss /= len(test_loader.dataset)\n",
    "    print('Test set loss: {:.6f}'.format(test_loss))\n",
    "    return test_loss\n",
    "              \n",
    "def save_model(epoch_idx):\n",
    "    with torch.no_grad():\n",
    "        filename = './pth/lin' + str(D_LATENT) + '/vae_' + str(epoch_idx).zfill(4) + '.pth'\n",
    "        torch.save({'state_dict': vae.state_dict()}, filename)"
   ]
  },
  {
   "cell_type": "markdown",
   "metadata": {},
   "source": [
    "Now we can run the training (takes long)."
   ]
  },
  {
   "cell_type": "code",
   "execution_count": null,
   "metadata": {
    "scrolled": false
   },
   "outputs": [],
   "source": [
    "os.mkdir('./pth/lin' + str(D_LATENT))\n",
    "loss1 = np.zeros(1000)\n",
    "loss2 = np.zeros(1000)\n",
    "for epoch in range(1, 1000):\n",
    "    loss1[epoch-1] = train(epoch)\n",
    "    loss2[epoch-1] = test(epoch)\n",
    "    if(epoch%100==0):\n",
    "        save_model(epoch)"
   ]
  },
  {
   "cell_type": "markdown",
   "metadata": {},
   "source": [
    "After training we visualize the training and test loss over the epochs."
   ]
  },
  {
   "cell_type": "code",
   "execution_count": 25,
   "metadata": {},
   "outputs": [
    {
     "data": {
      "image/png": "[encoded data removed]",
      "text/plain": [
       "<Figure size 576x360 with 1 Axes>"
      ]
     },
     "metadata": {
      "needs_background": "light"
     },
     "output_type": "display_data"
    }
   ],
   "source": [
    "plt.figure(figsize=(8,5))\n",
    "plt.rcParams.update({'font.size': 16})\n",
    "plt.plot(loss1[0:300])\n",
    "plt.plot(loss2[0:300])\n",
    "plt.legend(['Training loss', 'Test loss'])\n",
    "plt.xlabel('epoch')\n",
    "plt.savefig('loss.png')\n",
    "plt.show()"
   ]
  },
  {
   "cell_type": "markdown",
   "metadata": {},
   "source": [
    "# 2. Generating new music\n",
    "We can now use our trained model to create new 'songs' by drawing random samples from the latent prior and decoding them."
   ]
  },
  {
   "cell_type": "markdown",
   "metadata": {},
   "source": [
    "## 2.1 Load trained model"
   ]
  },
  {
   "cell_type": "code",
   "execution_count": 7,
   "metadata": {},
   "outputs": [
    {
     "name": "stdout",
     "output_type": "stream",
     "text": [
      "Param name: fc1.weight , Size = torch.Size([512, 25600])\n",
      "Param name: fc1.bias , Size = torch.Size([512])\n",
      "Param name: fc2.weight , Size = torch.Size([128, 512])\n",
      "Param name: fc2.bias , Size = torch.Size([128])\n",
      "Param name: fc31.weight , Size = torch.Size([16, 128])\n",
      "Param name: fc31.bias , Size = torch.Size([16])\n",
      "Param name: fc32.weight , Size = torch.Size([16, 128])\n",
      "Param name: fc32.bias , Size = torch.Size([16])\n",
      "Param name: fc4.weight , Size = torch.Size([128, 16])\n",
      "Param name: fc4.bias , Size = torch.Size([128])\n",
      "Param name: fc5.weight , Size = torch.Size([512, 128])\n",
      "Param name: fc5.bias , Size = torch.Size([512])\n",
      "Param name: fc6.weight , Size = torch.Size([25600, 512])\n",
      "Param name: fc6.bias , Size = torch.Size([25600])\n"
     ]
    }
   ],
   "source": [
    "checkpoint = torch.load('pth/lin16/vae_0300.pth')\n",
    "vae.load_state_dict(checkpoint['state_dict'])\n",
    "vae.eval()\n",
    "for name, param in vae.named_parameters():\n",
    "    if param.requires_grad:\n",
    "        print(\"Param name:\", name, \", Size =\", param.data.shape)"
   ]
  },
  {
   "cell_type": "markdown",
   "metadata": {},
   "source": [
    "## 2.2 Draw and decode new samples"
   ]
  },
  {
   "cell_type": "markdown",
   "metadata": {},
   "source": [
    "Define functions for drawing samples, decoding and saving as MIDI."
   ]
  },
  {
   "cell_type": "code",
   "execution_count": 8,
   "metadata": {},
   "outputs": [],
   "source": [
    "def decode_numpy(arr):\n",
    "    with torch.no_grad():\n",
    "        z = torch.from_numpy(arr).float().to(device)\n",
    "        sample = vae.decoder(z)\n",
    "        smp = sample.view(128, 200).cpu().data.numpy()\n",
    "        return(smp)\n",
    "        \n",
    "def random_numpy():\n",
    "    with torch.no_grad():\n",
    "        z = torch.randn(1, D_LATENT).cuda()\n",
    "        sample = vae.decoder(z).cuda()\n",
    "        smp = sample.view(128, 200).cpu().data.numpy()\n",
    "        return(smp)\n",
    "    \n",
    "def binarize(track, threshold):\n",
    "    track = 100*(track>threshold).astype('int')\n",
    "    return(track)\n",
    "\n",
    "def numpy_to_tracks(a, THRESHOLDS, use_tresh = True):\n",
    "    piano = np.zeros((128, 128))\n",
    "    bass  = np.zeros((128, 128))\n",
    "    lead  = np.zeros((128, 128))\n",
    "    drum  = np.zeros((128, 128))\n",
    "    piano[:, 16:(16+64)]               = a[:,(8+64):(8+2*64)]\n",
    "    bass[:, 0:64]                      = a[:,8:(8+64)]\n",
    "    lead[:, 48:(48+64)]                = a[:,(8+2*64):(8+3*64)]\n",
    "    drum[:, (35,38,42,43,46,47,49,51)] = a[:,0:8]\n",
    "    if(use_tresh):\n",
    "        piano = binarize(piano, THRESHOLDS[0])\n",
    "        bass = binarize(bass, THRESHOLDS[1])\n",
    "        lead = binarize(lead, THRESHOLDS[2])\n",
    "        drum = binarize(drum, THRESHOLDS[3])\n",
    "        \n",
    "    t0 = ppr.Track(pianoroll=piano, program=0, is_drum=False, name='piano')\n",
    "    t1 = ppr.Track(pianoroll=bass, program=34, is_drum=False, name='bass')\n",
    "    t2 = ppr.Track(pianoroll=lead, program=56, is_drum=False, name='lead')\n",
    "    t3 = ppr.Track(pianoroll=drum, program=0, is_drum=True, name='drums')\n",
    "    multitrack = ppr.Multitrack(tracks=[t2,t0,t1,t3], tempo=120.0,\n",
    "                        downbeat=[0, 32, 64, 96], beat_resolution=4)\n",
    "    return(multitrack)\n",
    "\n",
    "def generate_random_tracks(h, binarize):\n",
    "    #arr = np.random.normal(size=(1, D_LATENT))\n",
    "    smp = random_numpy()\n",
    "    trk = numpy_to_tracks(smp, h, binarize)\n",
    "    return(trk)\n",
    "\n",
    "def generate_random(filename, thresholds = 0.5*np.ones(4), verbose = True, binarize = True):\n",
    "    trk = generate_random_tracks(thresholds, binarize)\n",
    "    visualize(trk, filename)\n",
    "    if verbose:\n",
    "        print('Writing', filename)\n",
    "    trk.write(filename)\n",
    "\n",
    "def get_pianoroll(track):\n",
    "    if(track.name=='piano'):\n",
    "        i1 = 16\n",
    "        i2 = 16+64\n",
    "    elif(track.name=='bass'):\n",
    "        i1 = 0\n",
    "        i2 = 64\n",
    "    else:\n",
    "        i1 = 48\n",
    "        i2 = 48+64\n",
    "    mat = track.pianoroll[:, i1:i2]\n",
    "    return(mat)\n",
    "    \n",
    "def get_drumroll(track):\n",
    "    mat = track.pianoroll[:,(35,38,42,43,46,47,49,51)]\n",
    "    return(mat)\n",
    "\n",
    "def visualize(trk, fn, show = False, save = True):\n",
    "    p = fn\n",
    "    p = p[0:(len(p)-4)]\n",
    "    p = p + '.png'\n",
    "\n",
    "    t0 = get_pianoroll(trk.tracks[0])\n",
    "    t1 = get_pianoroll(trk.tracks[1])\n",
    "    t2 = get_pianoroll(trk.tracks[2])\n",
    "    t3 = get_drumroll(trk.tracks[3])\n",
    "    grid.GridSpec(2,2)\n",
    "    fig = plt.figure(figsize=(10,4.5))\n",
    "    plt.rcParams.update({'font.size': 12})\n",
    "\n",
    "    # Plot lead\n",
    "    plt.subplot2grid((1,4), (0,0))\n",
    "    plt.imshow(t0, aspect = 'auto', cmap = 'Greens')\n",
    "    plt.title('Lead')\n",
    "    plt.ylabel('Time step')\n",
    "    plt.xlabel('Note')\n",
    "    plt.xticks([0,12,24,36,48,60], ['C3', 'C4', 'C5', 'C6', 'C7', 'C8'])\n",
    "    \n",
    "    # Plot piano\n",
    "    plt.subplot2grid((1,4), (0,1))\n",
    "    plt.imshow(t1, aspect = 'auto', cmap = 'Reds')\n",
    "    plt.title('Piano')\n",
    "    plt.xlabel('Note')\n",
    "    plt.xticks([0,12,24,36,48,60], ['E1', 'E2', 'E3', 'E4', 'E5', 'E6'])\n",
    "    \n",
    "    # Plot bass\n",
    "    plt.subplot2grid((1,4), (0,2))\n",
    "    plt.imshow(t2, aspect = 'auto', cmap = 'Blues')\n",
    "    plt.title('Bass')\n",
    "    plt.xlabel('Note')\n",
    "    plt.xticks([0,12,24,36,48,60], ['C-1', 'C0', 'C1', 'C2', 'C3', 'C4'])\n",
    "    \n",
    "    # Plot drums\n",
    "    plt.subplot2grid((1,4), (0,3))\n",
    "    plt.imshow(t3, aspect = 'auto', cmap = 'Greys')\n",
    "    plt.title('Drums')\n",
    "    plt.xticks([0,1,2,3,4,5,6,7,8], ['kick', 'snare',' closed hat',  'low tom', 'open hat', 'high tom', 'crash', 'ride'],\n",
    "              rotation='vertical')\n",
    "    \n",
    "    fig.tight_layout()\n",
    "    if save:\n",
    "        fig.savefig(p)\n",
    "        \n",
    "    if show:\n",
    "        plt.show()\n",
    "    else:\n",
    "        plt.close()"
   ]
  },
  {
   "cell_type": "markdown",
   "metadata": {},
   "source": [
    "Here we generate 100 samples."
   ]
  },
  {
   "cell_type": "code",
   "execution_count": null,
   "metadata": {},
   "outputs": [],
   "source": [
    "THRESHOLDS = [0.3, 0.3, 0.6, 0.3]\n",
    "for i in range(0,100):\n",
    "    fn = 'samples/random_' + str(i).zfill(3) + '.mid'\n",
    "    generate_random(fn, THRESHOLDS, binarize = True)"
   ]
  },
  {
   "cell_type": "markdown",
   "metadata": {},
   "source": [
    "# 3. Reconstruction\n",
    "Here we study what the typical reconstructions look and sound like."
   ]
  },
  {
   "cell_type": "code",
   "execution_count": 9,
   "metadata": {},
   "outputs": [],
   "source": [
    "def file_to_numpy(fn):\n",
    "    img = PIL_Image.open(fn).convert('L')\n",
    "    a = np.array(img)\n",
    "    a = a/255\n",
    "    return(a)\n",
    "\n",
    "def recon(idx_song, idx_sample = 1, is_test = False):\n",
    "    if(idx_song > 1000):\n",
    "        idx_song -= 1 # correct for indexing error due to failed load earlier\n",
    "    str0 = 'train_data'\n",
    "    if(is_test):\n",
    "        str0 = 'test_data'\n",
    "    str1 = str(idx_song).zfill(4)\n",
    "    str2 = str(idx_sample).zfill(4)\n",
    "    data_path = os.path.join('.', str0, 'img' + str1, 'img' + str1 + '__' + str2 + '.png')\n",
    "    arr = file_to_numpy(data_path)\n",
    "    vae.eval()\n",
    "    with torch.no_grad():\n",
    "        data = torch.from_numpy(arr).float().to(device)\n",
    "        data = data.view(1,1,128,200)\n",
    "        rec, mu, log_var = vae(data)\n",
    "        rec = rec.view(-1,128,200)[0,:,:].cpu().data.numpy()\n",
    "        dat = data[0,0,:,:].cpu().data.numpy()\n",
    "        return(rec, dat)\n",
    "            "
   ]
  },
  {
   "cell_type": "markdown",
   "metadata": {},
   "source": [
    "## 3.1 Reconstructing samples from the training set\n",
    "We reconstruct a parts of the song 133, which is *All The Small Things (1999)* by Blink-128."
   ]
  },
  {
   "cell_type": "code",
   "execution_count": 13,
   "metadata": {},
   "outputs": [],
   "source": [
    "song_idx = 133\n",
    "for sample_idx in range(2,5):\n",
    "    rec, dat = recon(song_idx, sample_idx) \n",
    "    THRESHOLDS = [0.3, 0.3, 0.6, 0.3]\n",
    "    trk0 = numpy_to_tracks(rec, THRESHOLDS, use_tresh = False)\n",
    "    trk1 = numpy_to_tracks(rec, THRESHOLDS, use_tresh = True)\n",
    "    trk2 = numpy_to_tracks(dat, THRESHOLDS)\n",
    "    \n",
    "    # Write to midi\n",
    "    fend = str(song_idx) + '_' + str(sample_idx)\n",
    "    trk1.write('recon/rec' + fend + '.mid')\n",
    "    trk2.write('recon/dat' + fend + '.mid')\n",
    "\n",
    "    # We plot first the reconstruction, then binarized reconstruction and then the original data\n",
    "    visualize(trk0, 'recon/rec' + fend + '.png')\n",
    "    visualize(trk1, 'recon/bin' + fend + '.png')\n",
    "    visualize(trk2, 'recon/dat' + fend + '.png')"
   ]
  },
  {
   "cell_type": "markdown",
   "metadata": {},
   "source": [
    "## 3.2 Reconstructing samples from the test set\n",
    "We reconstruct a parts of the song 4603, which is *Up Around The Bend (1970)* by Creedence Clearwater Revival."
   ]
  },
  {
   "cell_type": "code",
   "execution_count": 14,
   "metadata": {},
   "outputs": [],
   "source": [
    "song_idx = 4603\n",
    "for sample_idx in range(4,8):\n",
    "    rec, dat = recon(song_idx, sample_idx, is_test = True) \n",
    "    THRESHOLDS = [0.3, 0.3, 0.3, 0.3]\n",
    "    trk0 = numpy_to_tracks(rec, THRESHOLDS, use_tresh = False)\n",
    "    trk1 = numpy_to_tracks(rec, THRESHOLDS, use_tresh = True)\n",
    "    trk2 = numpy_to_tracks(dat, THRESHOLDS)\n",
    "    \n",
    "    # Write to midi\n",
    "    fend = str(song_idx) + '_' + str(sample_idx)\n",
    "    trk1.write('recon/rec' + fend + '.mid')\n",
    "    trk2.write('recon/dat' + fend + '.mid')\n",
    "\n",
    "    # We plot first the reconstruction, then binarized reconstruction and then the original data\n",
    "    visualize(trk0, 'recon/rec' + fend + '.png')\n",
    "    visualize(trk1, 'recon/bin' + fend + '.png')\n",
    "    visualize(trk2, 'recon/dat' + fend + '.png')"
   ]
  }
 ],
 "metadata": {
  "kernelspec": {
   "display_name": "Python 3",
   "language": "python",
   "name": "python3"
  },
  "language_info": {
   "codemirror_mode": {
    "name": "ipython",
    "version": 3
   },
   "file_extension": ".py",
   "mimetype": "text/x-python",
   "name": "python",
   "nbconvert_exporter": "python",
   "pygments_lexer": "ipython3",
   "version": "3.6.8"
  }
 },
 "nbformat": 4,
 "nbformat_minor": 2
}
